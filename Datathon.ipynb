{
  "nbformat": 4,
  "nbformat_minor": 0,
  "metadata": {
    "kernelspec": {
      "display_name": "Python 3",
      "language": "python",
      "name": "python3"
    },
    "language_info": {
      "codemirror_mode": {
        "name": "ipython",
        "version": 3
      },
      "file_extension": ".py",
      "mimetype": "text/x-python",
      "name": "python",
      "nbconvert_exporter": "python",
      "pygments_lexer": "ipython3",
      "version": "3.7.4"
    },
    "colab": {
      "name": "Datathon.ipynb",
      "provenance": []
    }
  },
  "cells": [
    {
      "cell_type": "code",
      "metadata": {
        "id": "EMYaV6Eb59VJ",
        "colab_type": "code",
        "colab": {},
        "outputId": "a60202c9-ce37-4852-e8d9-99544f9de8e8"
      },
      "source": [
        "import sys\n",
        "!{sys.executable} -m pip install sqlalchemy\n",
        "!{sys.executable} -m pip install pymysql\n",
        "!pip install surprise\n",
        "!pip install recmetrics\n",
        "!pip install funcsigs"
      ],
      "execution_count": 0,
      "outputs": [
        {
          "output_type": "stream",
          "text": [
            "Requirement already satisfied: sqlalchemy in /opt/anaconda3/lib/python3.7/site-packages (1.3.9)\n",
            "Requirement already satisfied: pymysql in /opt/anaconda3/lib/python3.7/site-packages (0.9.3)\n",
            "Requirement already satisfied: surprise in /opt/anaconda3/lib/python3.7/site-packages (0.1)\n",
            "Requirement already satisfied: scikit-surprise in /opt/anaconda3/lib/python3.7/site-packages (from surprise) (1.1.0)\n",
            "Requirement already satisfied: scipy>=1.0.0 in /opt/anaconda3/lib/python3.7/site-packages (from scikit-surprise->surprise) (1.3.1)\n",
            "Requirement already satisfied: numpy>=1.11.2 in /opt/anaconda3/lib/python3.7/site-packages (from scikit-surprise->surprise) (1.17.2)\n",
            "Requirement already satisfied: joblib>=0.11 in /opt/anaconda3/lib/python3.7/site-packages (from scikit-surprise->surprise) (0.13.2)\n",
            "Requirement already satisfied: six>=1.10.0 in /opt/anaconda3/lib/python3.7/site-packages (from scikit-surprise->surprise) (1.12.0)\n",
            "Requirement already satisfied: recmetrics in /opt/anaconda3/lib/python3.7/site-packages (0.0.12)\n",
            "Requirement already satisfied: numpy in /opt/anaconda3/lib/python3.7/site-packages (from recmetrics) (1.17.2)\n",
            "Requirement already satisfied: seaborn in /opt/anaconda3/lib/python3.7/site-packages (from recmetrics) (0.9.0)\n",
            "Requirement already satisfied: scikit-learn in /opt/anaconda3/lib/python3.7/site-packages (from recmetrics) (0.21.3)\n",
            "Requirement already satisfied: pandas in /opt/anaconda3/lib/python3.7/site-packages (from recmetrics) (0.25.1)\n",
            "Requirement already satisfied: surprise in /opt/anaconda3/lib/python3.7/site-packages (from recmetrics) (0.1)\n",
            "Requirement already satisfied: scipy>=0.14.0 in /opt/anaconda3/lib/python3.7/site-packages (from seaborn->recmetrics) (1.3.1)\n",
            "Requirement already satisfied: matplotlib>=1.4.3 in /opt/anaconda3/lib/python3.7/site-packages (from seaborn->recmetrics) (3.1.1)\n",
            "Requirement already satisfied: joblib>=0.11 in /opt/anaconda3/lib/python3.7/site-packages (from scikit-learn->recmetrics) (0.13.2)\n",
            "Requirement already satisfied: pytz>=2017.2 in /opt/anaconda3/lib/python3.7/site-packages (from pandas->recmetrics) (2019.3)\n",
            "Requirement already satisfied: python-dateutil>=2.6.1 in /opt/anaconda3/lib/python3.7/site-packages (from pandas->recmetrics) (2.8.0)\n",
            "Requirement already satisfied: scikit-surprise in /opt/anaconda3/lib/python3.7/site-packages (from surprise->recmetrics) (1.1.0)\n",
            "Requirement already satisfied: cycler>=0.10 in /opt/anaconda3/lib/python3.7/site-packages (from matplotlib>=1.4.3->seaborn->recmetrics) (0.10.0)\n",
            "Requirement already satisfied: kiwisolver>=1.0.1 in /opt/anaconda3/lib/python3.7/site-packages (from matplotlib>=1.4.3->seaborn->recmetrics) (1.1.0)\n",
            "Requirement already satisfied: pyparsing!=2.0.4,!=2.1.2,!=2.1.6,>=2.0.1 in /opt/anaconda3/lib/python3.7/site-packages (from matplotlib>=1.4.3->seaborn->recmetrics) (2.4.2)\n",
            "Requirement already satisfied: six>=1.5 in /opt/anaconda3/lib/python3.7/site-packages (from python-dateutil>=2.6.1->pandas->recmetrics) (1.12.0)\n",
            "Requirement already satisfied: setuptools in /opt/anaconda3/lib/python3.7/site-packages (from kiwisolver>=1.0.1->matplotlib>=1.4.3->seaborn->recmetrics) (41.4.0)\n",
            "Requirement already satisfied: funcsigs in /opt/anaconda3/lib/python3.7/site-packages (1.0.2)\n"
          ],
          "name": "stdout"
        }
      ]
    },
    {
      "cell_type": "code",
      "metadata": {
        "id": "iUPjPXa759VS",
        "colab_type": "code",
        "colab": {}
      },
      "source": [
        "from sqlalchemy import create_engine\n",
        "import pymysql\n",
        "import pandas as pd\n",
        "import numpy as np\n",
        "import matplotlib.pyplot as plt\n",
        "\n",
        "db_connection_str = 'mysql+pymysql:// '\n",
        "db_connection = create_engine(db_connection_str)"
      ],
      "execution_count": 0,
      "outputs": []
    },
    {
      "cell_type": "code",
      "metadata": {
        "id": "QLL0mpaX59VV",
        "colab_type": "code",
        "colab": {},
        "outputId": "7eb429eb-7f39-47ae-ed4f-eca5243af01e"
      },
      "source": [
        "df = pd.read_sql('SELECT * FROM retail_uk_ecom_ecommerce LIMIT 10', con = db_connection)\n",
        "df"
      ],
      "execution_count": 0,
      "outputs": [
        {
          "output_type": "execute_result",
          "data": {
            "text/html": [
              "<div>\n",
              "<style scoped>\n",
              "    .dataframe tbody tr th:only-of-type {\n",
              "        vertical-align: middle;\n",
              "    }\n",
              "\n",
              "    .dataframe tbody tr th {\n",
              "        vertical-align: top;\n",
              "    }\n",
              "\n",
              "    .dataframe thead th {\n",
              "        text-align: right;\n",
              "    }\n",
              "</style>\n",
              "<table border=\"1\" class=\"dataframe\">\n",
              "  <thead>\n",
              "    <tr style=\"text-align: right;\">\n",
              "      <th></th>\n",
              "      <th>id</th>\n",
              "      <th>transaction_source</th>\n",
              "      <th>channel_name</th>\n",
              "      <th>channel_postcode</th>\n",
              "      <th>Transaction_Group</th>\n",
              "      <th>sales_date</th>\n",
              "      <th>weekday_number</th>\n",
              "      <th>time_of_sale</th>\n",
              "      <th>Demand_Date</th>\n",
              "      <th>Demand_Time</th>\n",
              "      <th>...</th>\n",
              "      <th>RFM_Score</th>\n",
              "      <th>Is_Employee</th>\n",
              "      <th>customer_age</th>\n",
              "      <th>customer_title</th>\n",
              "      <th>customer_country_code</th>\n",
              "      <th>is_email_present</th>\n",
              "      <th>footfall_hourly</th>\n",
              "      <th>hour</th>\n",
              "      <th>Supplier_ID</th>\n",
              "      <th>new_postcode</th>\n",
              "    </tr>\n",
              "  </thead>\n",
              "  <tbody>\n",
              "    <tr>\n",
              "      <td>0</td>\n",
              "      <td>1</td>\n",
              "      <td>eCommerce</td>\n",
              "      <td>eCommerce</td>\n",
              "      <td></td>\n",
              "      <td>Sales (Despatched)</td>\n",
              "      <td>2018-01-02</td>\n",
              "      <td>2</td>\n",
              "      <td></td>\n",
              "      <td>2017-12-28 00:00:00</td>\n",
              "      <td>19:40</td>\n",
              "      <td>...</td>\n",
              "      <td>9</td>\n",
              "      <td></td>\n",
              "      <td>NA</td>\n",
              "      <td>Mrs</td>\n",
              "      <td>UK</td>\n",
              "      <td>1</td>\n",
              "      <td>NA</td>\n",
              "      <td>NA</td>\n",
              "      <td>202</td>\n",
              "      <td>TN21</td>\n",
              "    </tr>\n",
              "    <tr>\n",
              "      <td>1</td>\n",
              "      <td>2</td>\n",
              "      <td>eCommerce</td>\n",
              "      <td>eCommerce</td>\n",
              "      <td></td>\n",
              "      <td>Sales (Despatched)</td>\n",
              "      <td>2018-01-02</td>\n",
              "      <td>2</td>\n",
              "      <td></td>\n",
              "      <td>2018-01-01 00:00:00</td>\n",
              "      <td>15:04</td>\n",
              "      <td>...</td>\n",
              "      <td>9</td>\n",
              "      <td></td>\n",
              "      <td>NA</td>\n",
              "      <td>Prof</td>\n",
              "      <td>US</td>\n",
              "      <td>1</td>\n",
              "      <td>NA</td>\n",
              "      <td>NA</td>\n",
              "      <td>227</td>\n",
              "      <td>02478</td>\n",
              "    </tr>\n",
              "    <tr>\n",
              "      <td>2</td>\n",
              "      <td>3</td>\n",
              "      <td>eCommerce</td>\n",
              "      <td>eCommerce</td>\n",
              "      <td></td>\n",
              "      <td>Sales (Despatched)</td>\n",
              "      <td>2018-02-09</td>\n",
              "      <td>5</td>\n",
              "      <td></td>\n",
              "      <td>2018-02-08 00:00:00</td>\n",
              "      <td>20:46</td>\n",
              "      <td>...</td>\n",
              "      <td>5</td>\n",
              "      <td></td>\n",
              "      <td>NA</td>\n",
              "      <td>Mr</td>\n",
              "      <td>GB</td>\n",
              "      <td>1</td>\n",
              "      <td>NA</td>\n",
              "      <td>NA</td>\n",
              "      <td>234</td>\n",
              "      <td>PE7</td>\n",
              "    </tr>\n",
              "    <tr>\n",
              "      <td>3</td>\n",
              "      <td>4</td>\n",
              "      <td>eCommerce</td>\n",
              "      <td>eCommerce</td>\n",
              "      <td></td>\n",
              "      <td>Sales (Despatched)</td>\n",
              "      <td>2018-01-02</td>\n",
              "      <td>2</td>\n",
              "      <td></td>\n",
              "      <td>2017-12-31 00:00:00</td>\n",
              "      <td>17:50</td>\n",
              "      <td>...</td>\n",
              "      <td>2</td>\n",
              "      <td></td>\n",
              "      <td>NA</td>\n",
              "      <td>Mrs</td>\n",
              "      <td>ES</td>\n",
              "      <td>1</td>\n",
              "      <td>NA</td>\n",
              "      <td>NA</td>\n",
              "      <td>232</td>\n",
              "      <td>26004</td>\n",
              "    </tr>\n",
              "    <tr>\n",
              "      <td>4</td>\n",
              "      <td>5</td>\n",
              "      <td>eCommerce</td>\n",
              "      <td>eCommerce</td>\n",
              "      <td></td>\n",
              "      <td>Sales (Despatched)</td>\n",
              "      <td>2018-02-09</td>\n",
              "      <td>5</td>\n",
              "      <td></td>\n",
              "      <td>2018-02-08 00:00:00</td>\n",
              "      <td>14:38</td>\n",
              "      <td>...</td>\n",
              "      <td>3</td>\n",
              "      <td></td>\n",
              "      <td>NA</td>\n",
              "      <td>Ms</td>\n",
              "      <td>SG</td>\n",
              "      <td>1</td>\n",
              "      <td>NA</td>\n",
              "      <td>NA</td>\n",
              "      <td>55</td>\n",
              "      <td>509731</td>\n",
              "    </tr>\n",
              "    <tr>\n",
              "      <td>5</td>\n",
              "      <td>6</td>\n",
              "      <td>eCommerce</td>\n",
              "      <td>eCommerce</td>\n",
              "      <td></td>\n",
              "      <td>Sales (Despatched)</td>\n",
              "      <td>2018-02-09</td>\n",
              "      <td>5</td>\n",
              "      <td></td>\n",
              "      <td>2018-02-08 00:00:00</td>\n",
              "      <td>14:38</td>\n",
              "      <td>...</td>\n",
              "      <td>3</td>\n",
              "      <td></td>\n",
              "      <td>NA</td>\n",
              "      <td>Ms</td>\n",
              "      <td>SG</td>\n",
              "      <td>1</td>\n",
              "      <td>NA</td>\n",
              "      <td>NA</td>\n",
              "      <td>55</td>\n",
              "      <td>509731</td>\n",
              "    </tr>\n",
              "    <tr>\n",
              "      <td>6</td>\n",
              "      <td>7</td>\n",
              "      <td>eCommerce</td>\n",
              "      <td>eCommerce</td>\n",
              "      <td></td>\n",
              "      <td>Sales (Despatched)</td>\n",
              "      <td>2018-01-02</td>\n",
              "      <td>2</td>\n",
              "      <td></td>\n",
              "      <td>2017-12-29 00:00:00</td>\n",
              "      <td>08:33</td>\n",
              "      <td>...</td>\n",
              "      <td>3</td>\n",
              "      <td></td>\n",
              "      <td>NA</td>\n",
              "      <td>Mrs</td>\n",
              "      <td>GB</td>\n",
              "      <td>1</td>\n",
              "      <td>NA</td>\n",
              "      <td>NA</td>\n",
              "      <td>232</td>\n",
              "      <td>SS9</td>\n",
              "    </tr>\n",
              "    <tr>\n",
              "      <td>7</td>\n",
              "      <td>8</td>\n",
              "      <td>eCommerce</td>\n",
              "      <td>eCommerce</td>\n",
              "      <td></td>\n",
              "      <td>Returns</td>\n",
              "      <td>2018-02-01</td>\n",
              "      <td>4</td>\n",
              "      <td></td>\n",
              "      <td>2017-12-24 00:00:00</td>\n",
              "      <td>12:28</td>\n",
              "      <td>...</td>\n",
              "      <td>9</td>\n",
              "      <td></td>\n",
              "      <td>NA</td>\n",
              "      <td>Miss</td>\n",
              "      <td>GB</td>\n",
              "      <td>1</td>\n",
              "      <td>NA</td>\n",
              "      <td>NA</td>\n",
              "      <td>54</td>\n",
              "      <td>WR12</td>\n",
              "    </tr>\n",
              "    <tr>\n",
              "      <td>8</td>\n",
              "      <td>9</td>\n",
              "      <td>eCommerce</td>\n",
              "      <td>eCommerce</td>\n",
              "      <td></td>\n",
              "      <td>Sales (Despatched)</td>\n",
              "      <td>2018-02-01</td>\n",
              "      <td>4</td>\n",
              "      <td></td>\n",
              "      <td>2018-01-31 00:00:00</td>\n",
              "      <td>12:57</td>\n",
              "      <td>...</td>\n",
              "      <td>8</td>\n",
              "      <td></td>\n",
              "      <td>NA</td>\n",
              "      <td>Mrs</td>\n",
              "      <td>GB</td>\n",
              "      <td>1</td>\n",
              "      <td>NA</td>\n",
              "      <td>NA</td>\n",
              "      <td>236</td>\n",
              "      <td>IP4</td>\n",
              "    </tr>\n",
              "    <tr>\n",
              "      <td>9</td>\n",
              "      <td>10</td>\n",
              "      <td>eCommerce</td>\n",
              "      <td>eCommerce</td>\n",
              "      <td></td>\n",
              "      <td>Returns</td>\n",
              "      <td>2018-02-01</td>\n",
              "      <td>4</td>\n",
              "      <td></td>\n",
              "      <td>2017-12-24 00:00:00</td>\n",
              "      <td>12:28</td>\n",
              "      <td>...</td>\n",
              "      <td>9</td>\n",
              "      <td></td>\n",
              "      <td>NA</td>\n",
              "      <td>Miss</td>\n",
              "      <td>GB</td>\n",
              "      <td>1</td>\n",
              "      <td>NA</td>\n",
              "      <td>NA</td>\n",
              "      <td>54</td>\n",
              "      <td>WR12</td>\n",
              "    </tr>\n",
              "  </tbody>\n",
              "</table>\n",
              "<p>10 rows × 47 columns</p>\n",
              "</div>"
            ],
            "text/plain": [
              "   id transaction_source channel_name channel_postcode   Transaction_Group  \\\n",
              "0   1          eCommerce    eCommerce                   Sales (Despatched)   \n",
              "1   2          eCommerce    eCommerce                   Sales (Despatched)   \n",
              "2   3          eCommerce    eCommerce                   Sales (Despatched)   \n",
              "3   4          eCommerce    eCommerce                   Sales (Despatched)   \n",
              "4   5          eCommerce    eCommerce                   Sales (Despatched)   \n",
              "5   6          eCommerce    eCommerce                   Sales (Despatched)   \n",
              "6   7          eCommerce    eCommerce                   Sales (Despatched)   \n",
              "7   8          eCommerce    eCommerce                              Returns   \n",
              "8   9          eCommerce    eCommerce                   Sales (Despatched)   \n",
              "9  10          eCommerce    eCommerce                              Returns   \n",
              "\n",
              "   sales_date weekday_number time_of_sale          Demand_Date Demand_Time  \\\n",
              "0  2018-01-02              2               2017-12-28 00:00:00       19:40   \n",
              "1  2018-01-02              2               2018-01-01 00:00:00       15:04   \n",
              "2  2018-02-09              5               2018-02-08 00:00:00       20:46   \n",
              "3  2018-01-02              2               2017-12-31 00:00:00       17:50   \n",
              "4  2018-02-09              5               2018-02-08 00:00:00       14:38   \n",
              "5  2018-02-09              5               2018-02-08 00:00:00       14:38   \n",
              "6  2018-01-02              2               2017-12-29 00:00:00       08:33   \n",
              "7  2018-02-01              4               2017-12-24 00:00:00       12:28   \n",
              "8  2018-02-01              4               2018-01-31 00:00:00       12:57   \n",
              "9  2018-02-01              4               2017-12-24 00:00:00       12:28   \n",
              "\n",
              "   ... RFM_Score Is_Employee customer_age customer_title  \\\n",
              "0  ...         9                       NA            Mrs   \n",
              "1  ...         9                       NA           Prof   \n",
              "2  ...         5                       NA             Mr   \n",
              "3  ...         2                       NA            Mrs   \n",
              "4  ...         3                       NA             Ms   \n",
              "5  ...         3                       NA             Ms   \n",
              "6  ...         3                       NA            Mrs   \n",
              "7  ...         9                       NA           Miss   \n",
              "8  ...         8                       NA            Mrs   \n",
              "9  ...         9                       NA           Miss   \n",
              "\n",
              "  customer_country_code is_email_present footfall_hourly hour Supplier_ID  \\\n",
              "0                    UK                1              NA   NA         202   \n",
              "1                    US                1              NA   NA         227   \n",
              "2                    GB                1              NA   NA         234   \n",
              "3                    ES                1              NA   NA         232   \n",
              "4                    SG                1              NA   NA          55   \n",
              "5                    SG                1              NA   NA          55   \n",
              "6                    GB                1              NA   NA         232   \n",
              "7                    GB                1              NA   NA          54   \n",
              "8                    GB                1              NA   NA         236   \n",
              "9                    GB                1              NA   NA          54   \n",
              "\n",
              "  new_postcode  \n",
              "0        TN21   \n",
              "1        02478  \n",
              "2         PE7   \n",
              "3        26004  \n",
              "4       509731  \n",
              "5       509731  \n",
              "6         SS9   \n",
              "7        WR12   \n",
              "8         IP4   \n",
              "9        WR12   \n",
              "\n",
              "[10 rows x 47 columns]"
            ]
          },
          "metadata": {
            "tags": []
          },
          "execution_count": 2
        }
      ]
    },
    {
      "cell_type": "code",
      "metadata": {
        "id": "Lgb78gES59VZ",
        "colab_type": "code",
        "colab": {}
      },
      "source": [
        "from surprise import SVD\n",
        "from surprise import KNNBasic\n",
        "from surprise import NormalPredictor\n",
        "from surprise import Dataset\n",
        "from surprise import Reader\n",
        "from surprise import accuracy\n",
        "from funcsigs import signature\n",
        "from surprise.model_selection import KFold\n",
        "import recmetrics\n",
        "from collections import defaultdict\n",
        "from surprise.model_selection import train_test_split"
      ],
      "execution_count": 0,
      "outputs": []
    },
    {
      "cell_type": "code",
      "metadata": {
        "id": "2FiKIIV359Vc",
        "colab_type": "code",
        "colab": {}
      },
      "source": [
        "df = pd.read_sql('''SELECT SKU, customer_account,items_quantity\n",
        "                    FROM retail_uk_ecom \n",
        "                    WHERE items_quantity > 0 AND Product_SubCategory_Desc <> \"Admin\" AND transaction_lines_count > 1 AND customer_account <> 0\n",
        "                    LIMIT 10000''', con = db_connection)\n",
        "df['items_quantity'].unique()\n",
        "reader = Reader(rating_scale=(0,10))\n",
        "data = Dataset.load_from_df(df[['customer_account', 'SKU', 'items_quantity']], reader)\n",
        "trainset, testset = train_test_split(data, test_size=.25)"
      ],
      "execution_count": 0,
      "outputs": []
    },
    {
      "cell_type": "code",
      "metadata": {
        "id": "-wWprfzS59Vw",
        "colab_type": "code",
        "colab": {},
        "outputId": "00be952c-12ef-4a20-87c2-787e7ceb1ba5"
      },
      "source": [
        "algo_normal = NormalPredictor()\n",
        "algo_normal.fit(trainset)\n",
        "predictions = algo_normal.test(testset)\n",
        "print(accuracy.rmse(predictions))\n",
        "print(accuracy.mse(predictions))"
      ],
      "execution_count": 0,
      "outputs": [
        {
          "output_type": "stream",
          "text": [
            "RMSE: 0.2904\n",
            "0.29042279825004946\n",
            "MSE: 0.0843\n",
            "0.08434540174338892\n"
          ],
          "name": "stdout"
        }
      ]
    },
    {
      "cell_type": "code",
      "metadata": {
        "id": "cUwYhpGv59V2",
        "colab_type": "code",
        "colab": {},
        "outputId": "5cdb8d52-da45-4ab1-96be-784c979696f7"
      },
      "source": [
        "# Use the famous SVD algorithm.\n",
        "algo_svd = SVD()\n",
        "algo_svd.fit(trainset)\n",
        "predictions = algo_svd.test(testset)\n",
        "print(accuracy.rmse(predictions))\n",
        "print(accuracy.mse(predictions))"
      ],
      "execution_count": 0,
      "outputs": [
        {
          "output_type": "stream",
          "text": [
            "RMSE: 0.2124\n",
            "0.21238933901307144\n",
            "MSE: 0.0451\n",
            "0.04510923132640939\n"
          ],
          "name": "stdout"
        }
      ]
    },
    {
      "cell_type": "code",
      "metadata": {
        "id": "ork6dlnC59V6",
        "colab_type": "code",
        "colab": {},
        "outputId": "9eb35817-8619-4329-9370-c4f931a0d698"
      },
      "source": [
        "algo_knn = KNNBasic()\n",
        "algo_knn.fit(trainset)\n",
        "predictions = algo_knn.test(testset)\n",
        "print(accuracy.rmse(predictions))\n",
        "print(accuracy.mse(predictions))"
      ],
      "execution_count": 0,
      "outputs": [
        {
          "output_type": "stream",
          "text": [
            "Computing the msd similarity matrix...\n",
            "Done computing similarity matrix.\n",
            "RMSE: 0.2217\n",
            "0.2216805738347003\n",
            "MSE: 0.0491\n",
            "0.04914227681568201\n"
          ],
          "name": "stdout"
        }
      ]
    },
    {
      "cell_type": "code",
      "metadata": {
        "id": "q8eYxnA059V9",
        "colab_type": "code",
        "colab": {},
        "outputId": "dd8c3688-22ce-42f4-bf40-2388a05edd98"
      },
      "source": [
        "trainset = data.build_full_trainset()\n",
        "algo = SVD()\n",
        "algo.fit(trainset)"
      ],
      "execution_count": 0,
      "outputs": [
        {
          "output_type": "execute_result",
          "data": {
            "text/plain": [
              "<surprise.prediction_algorithms.matrix_factorization.SVD at 0x1a25a2ced0>"
            ]
          },
          "metadata": {
            "tags": []
          },
          "execution_count": 70
        }
      ]
    },
    {
      "cell_type": "code",
      "metadata": {
        "id": "WuDOYXZM59WA",
        "colab_type": "code",
        "colab": {}
      },
      "source": [
        "testset = trainset.build_anti_testset()\n",
        "testset = testset[1:1000]"
      ],
      "execution_count": 0,
      "outputs": []
    },
    {
      "cell_type": "code",
      "metadata": {
        "id": "hkDliTQl59WH",
        "colab_type": "code",
        "colab": {}
      },
      "source": [
        "def get_top_n(predictions, n=10):\n",
        "    '''Return the top-N recommendation for each user from a set of predictions.\n",
        "\n",
        "    Args:\n",
        "        predictions(list of Prediction objects): The list of predictions, as\n",
        "            returned by the test method of an algorithm.\n",
        "        n(int): The number of recommendation to output for each user. Default\n",
        "            is 10.\n",
        "\n",
        "    Returns:\n",
        "    A dict where keys are user (raw) ids and values are lists of tuples:\n",
        "        [(raw item id, rating estimation), ...] of size n.\n",
        "    '''\n",
        "\n",
        "    # First map the predictions to each user.\n",
        "    top_n = defaultdict(list)\n",
        "    for uid, iid, true_r, est, _ in predictions:\n",
        "        top_n[uid].append((iid, est))\n",
        "\n",
        "    # Then sort the predictions for each user and retrieve the k highest ones.\n",
        "    for uid, user_ratings in top_n.items():\n",
        "        user_ratings.sort(key=lambda x: x[1], reverse=True)\n",
        "        top_n[uid] = user_ratings[:n]\n",
        "\n",
        "    return top_n"
      ],
      "execution_count": 0,
      "outputs": []
    },
    {
      "cell_type": "code",
      "metadata": {
        "id": "4QQziWT759WM",
        "colab_type": "code",
        "colab": {},
        "outputId": "0a20a423-663a-41c7-ae0e-029b4111289d"
      },
      "source": [
        "predictions = algo.test(testset)\n",
        "\n",
        "top_n = get_top_n(predictions, n=3)\n",
        "\n",
        "# Print the recommended items for each user\n",
        "for uid, user_ratings in top_n.items():\n",
        "    print(f'UserID: {uid, [iid for (iid, _) in user_ratings]}')"
      ],
      "execution_count": 0,
      "outputs": [
        {
          "output_type": "stream",
          "text": [
            "UserID: ('3820981', ['730853', '687973', '687980'])\n",
            "UserID: ('3821229', ['737319', '737807', '688673'])\n",
            "UserID: ('3824883', ['688666', '690393', '742993'])\n"
          ],
          "name": "stdout"
        }
      ]
    },
    {
      "cell_type": "code",
      "metadata": {
        "id": "LqeUVFpu59WT",
        "colab_type": "code",
        "colab": {}
      },
      "source": [
        "def precision_recall_at_k(predictions, k=10, threshold=3.5):\n",
        "    '''Return precision and recall at k metrics for each user.'''\n",
        "\n",
        "    # First map the predictions to each user.\n",
        "    user_est_true = defaultdict(list)\n",
        "    for uid, _, true_r, est, _ in predictions:\n",
        "        user_est_true[uid].append((est, true_r))\n",
        "\n",
        "    precisions = dict()\n",
        "    recalls = dict()\n",
        "    for uid, user_ratings in user_est_true.items():\n",
        "\n",
        "        # Sort user ratings by estimated value\n",
        "        user_ratings.sort(key=lambda x: x[0], reverse=True)\n",
        "\n",
        "        # Number of relevant items\n",
        "        n_rel = sum((true_r >= threshold) for (_, true_r) in user_ratings)\n",
        "\n",
        "        # Number of recommended items in top k\n",
        "        n_rec_k = sum((est >= threshold) for (est, _) in user_ratings[:k])\n",
        "\n",
        "        # Number of relevant and recommended items in top k\n",
        "        n_rel_and_rec_k = sum(((true_r >= threshold) and (est >= threshold))\n",
        "                              for (est, true_r) in user_ratings[:k])\n",
        "\n",
        "        # Precision@K: Proportion of recommended items that are relevant\n",
        "        precisions[uid] = n_rel_and_rec_k / n_rec_k if n_rec_k != 0 else 1\n",
        "\n",
        "        # Recall@K: Proportion of relevant items that are recommended\n",
        "        recalls[uid] = n_rel_and_rec_k / n_rel if n_rel != 0 else 1\n",
        "\n",
        "    return precisions, recalls"
      ],
      "execution_count": 0,
      "outputs": []
    },
    {
      "cell_type": "code",
      "metadata": {
        "id": "B1SfBbXN59WV",
        "colab_type": "code",
        "colab": {},
        "outputId": "b88dcab5-194b-4dfe-a663-e11d90dc81b3"
      },
      "source": [
        "\n",
        "    trainset, testset = train_test_split(data, test_size=.25)\n",
        "    algo.fit(trainset)\n",
        "    predictions = algo.test(testset)\n",
        "    precisions, recalls = precision_recall_at_k(predictions, k=7, threshold=2)\n",
        "\n",
        "\n",
        "    # Precision and recall can then be averaged over all users\n",
        "    print(f'the precision rate is {sum(prec for prec in precisions.values()) / len(precisions)}')\n",
        "    print(f'the recall rate is {sum(rec for rec in recalls.values()) / len(recalls)}')"
      ],
      "execution_count": 0,
      "outputs": [
        {
          "output_type": "stream",
          "text": [
            "the precision rate is 1.0\n",
            "the recall rate is 0.9712746858168761\n"
          ],
          "name": "stdout"
        }
      ]
    },
    {
      "cell_type": "code",
      "metadata": {
        "id": "alzkF6vK59WZ",
        "colab_type": "code",
        "colab": {}
      },
      "source": [
        ""
      ],
      "execution_count": 0,
      "outputs": []
    }
  ]
}